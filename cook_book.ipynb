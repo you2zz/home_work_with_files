{
 "cells": [
  {
   "cell_type": "code",
   "execution_count": null,
   "metadata": {},
   "outputs": [],
   "source": [
    "# Задача №1\n",
    "\n",
    "from pprint import pprint\n",
    "with open('recipes.txt', 'rt', encoding='utf-8') as file:\n",
    "    cook_book = {}\n",
    "    for line in file:\n",
    "        dish_name = line.strip()\n",
    "        ingredient_count = int(file.readline().strip())\n",
    "        ingredients = []\n",
    "        for _ in range(ingredient_count):\n",
    "            ingredient_name, quantity, measure = file.readline().strip().split(' | ')\n",
    "            ingredients.append({\n",
    "                'ingredient_name': ingredient_name,\n",
    "                'quantity': int(quantity),\n",
    "                'measure': measure\n",
    "            })\n",
    "        file.readline()\n",
    "        cook_book[dish_name] = ingredients\n",
    "    pprint(cook_book, sort_dicts = False)   "
   ]
  },
  {
   "cell_type": "code",
   "execution_count": 109,
   "metadata": {},
   "outputs": [
    {
     "name": "stdout",
     "output_type": "stream",
     "text": [
      "{'Винный уксус': {'measure': 'ст.л', 'quantity': 5},\n",
      " 'Говядина': {'measure': 'г', 'quantity': 2500},\n",
      " 'Картофель': {'measure': 'кг', 'quantity': 5},\n",
      " 'Лаваш': {'measure': 'шт', 'quantity': 10},\n",
      " 'Молоко': {'measure': 'мл', 'quantity': 500},\n",
      " 'Перец сладкий': {'measure': 'шт', 'quantity': 5},\n",
      " 'Помидор': {'measure': 'шт', 'quantity': 20},\n",
      " 'Сыр гауда': {'measure': 'г', 'quantity': 500},\n",
      " 'Чеснок': {'measure': 'зубч', 'quantity': 45},\n",
      " 'Яйцо': {'measure': 'шт', 'quantity': 10}}\n"
     ]
    }
   ],
   "source": [
    "# Задача №2\n",
    "\n",
    "def get_shop_list_by_dishes(dishes, person_count):\n",
    "    all_ingredients = []\n",
    "    for dish in dishes:\n",
    "        for ingr in cook_book[dish]:\n",
    "            gf = []\n",
    "            all_ingredients.append(gf)\n",
    "            for k, v in ingr.items():\n",
    "                gf.append(v)\n",
    "    \n",
    "    ingred_name = []\n",
    "    uniq_ingredients = []\n",
    "    for s in all_ingredients:\n",
    "        if s[0] not in ingred_name:\n",
    "            ingred_name.append(s[0])\n",
    "            uniq_ingredients.append(s)\n",
    "        else:\n",
    "            uniq_ingredients[ingred_name.index(s[0])][1] += s[1]\n",
    "\n",
    "    ingredients_dict = {}\n",
    "    for l in uniq_ingredients:\n",
    "        ingredients_dict.setdefault(l[0], {'measure': l[2], 'quantity': l[1] * person_count})\n",
    "    return ingredients_dict\n",
    "\n",
    "  \n",
    "\n",
    "\n",
    "pprint(get_shop_list_by_dishes(['Омлет', 'Запеченный картофель', 'Фахитос'], 5))\n"
   ]
  }
 ],
 "metadata": {
  "kernelspec": {
   "display_name": "Python 3",
   "language": "python",
   "name": "python3"
  },
  "language_info": {
   "codemirror_mode": {
    "name": "ipython",
    "version": 3
   },
   "file_extension": ".py",
   "mimetype": "text/x-python",
   "name": "python",
   "nbconvert_exporter": "python",
   "pygments_lexer": "ipython3",
   "version": "3.11.3"
  },
  "orig_nbformat": 4
 },
 "nbformat": 4,
 "nbformat_minor": 2
}
