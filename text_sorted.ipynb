{
 "cells": [
  {
   "cell_type": "code",
   "execution_count": 76,
   "metadata": {},
   "outputs": [],
   "source": [
    "# Задача № 3\n",
    "\n",
    "import os\n",
    "\n",
    "with open('sorted/1.txt', encoding='utf-8') as file1, open('sorted/2.txt', encoding='utf-8') as file2, open('sorted/3.txt', encoding='utf-8') as file3, open('new_file.txt', 'w', encoding='utf-8') as output_file:\n",
    "    \n",
    "    al_line_txt1, al_line_txt2, al_line_txt3 = [os.path.basename('sorted/1.txt') + '\\n'], [os.path.basename('sorted/2.txt') + '\\n'], [os.path.basename('sorted/3.txt') + '\\n']\n",
    "\n",
    "    for line in file1:\n",
    "        al_line_txt1.append(line)\n",
    "    al_line_txt1.insert(1, str(len(al_line_txt1) - 1) + '\\n')\n",
    "\n",
    "    for line in file2:\n",
    "        al_line_txt2.append(line)\n",
    "    al_line_txt2.insert(1, str(len(al_line_txt2) - 1) + '\\n')\n",
    "\n",
    "    for line in file3:\n",
    "        al_line_txt3.append(line)\n",
    "    al_line_txt3.insert(1, str(len(al_line_txt3) - 1) + '\\n')\n",
    "    \n",
    "    all_file = sorted([al_line_txt1, al_line_txt2, al_line_txt3], key=len)    \n",
    "        \n",
    "    for x in all_file:\n",
    "        for line in x:\n",
    "            output_file.write(line)\n",
    "        output_file.write('\\n')\n",
    "   "
   ]
  }
 ],
 "metadata": {
  "kernelspec": {
   "display_name": "Python 3",
   "language": "python",
   "name": "python3"
  },
  "language_info": {
   "codemirror_mode": {
    "name": "ipython",
    "version": 3
   },
   "file_extension": ".py",
   "mimetype": "text/x-python",
   "name": "python",
   "nbconvert_exporter": "python",
   "pygments_lexer": "ipython3",
   "version": "3.11.3"
  },
  "orig_nbformat": 4
 },
 "nbformat": 4,
 "nbformat_minor": 2
}
